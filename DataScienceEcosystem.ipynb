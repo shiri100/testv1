{
 "cells": [
  {
   "cell_type": "markdown",
   "id": "48f44027-78c2-4756-a805-3c3d62671fa6",
   "metadata": {},
   "source": [
    "# Data Science Tools and Ecosystem"
   ]
  },
  {
   "cell_type": "markdown",
   "id": "c72393ff-497e-4d80-9efc-045b8d045bbb",
   "metadata": {
    "tags": []
   },
   "source": [
    "In this notebook, Data Science Tools and Ecosystem are summarized."
   ]
  },
  {
   "cell_type": "markdown",
   "id": "0d73f7d2-0786-4f55-9dbf-db44ceaa6341",
   "metadata": {},
   "source": [
    "**Objectives:**"
   ]
  },
  {
   "cell_type": "markdown",
   "id": "50ca8ae5-2538-4cba-8d8e-a56148ce9200",
   "metadata": {},
   "source": [
    "- List popular languages for Data Science"
   ]
  },
  {
   "cell_type": "markdown",
   "id": "1237681d-2ac7-45ab-ace8-ad02b268d807",
   "metadata": {},
   "source": [
    "- Commonly used Libraries for Data Science"
   ]
  },
  {
   "cell_type": "markdown",
   "id": "2fe17e94-725f-4ce1-a92e-792ed0229a77",
   "metadata": {
    "tags": []
   },
   "source": [
    "- Creating a Table"
   ]
  },
  {
   "cell_type": "markdown",
   "id": "01afa652-e4f4-4369-b474-5313f0cc26d9",
   "metadata": {},
   "source": [
    "Some of the popular languages that Data Scientists use are:"
   ]
  },
  {
   "cell_type": "markdown",
   "id": "aaed5073-5d01-4f18-8677-18bf5ca602e9",
   "metadata": {},
   "source": [
    "1. Python"
   ]
  },
  {
   "cell_type": "markdown",
   "id": "0b0523e6-0fa8-4b84-9f9b-adfc9f7f554a",
   "metadata": {},
   "source": [
    "2. R"
   ]
  },
  {
   "cell_type": "markdown",
   "id": "d7cd929b-2206-44d5-b427-9a4a09c138aa",
   "metadata": {},
   "source": [
    "3. RStudio"
   ]
  },
  {
   "cell_type": "markdown",
   "id": "49b605ed-0c3a-4942-8b7e-a078e93af9e8",
   "metadata": {},
   "source": [
    "Some of the commonly used libraries used by Data Scientists include:"
   ]
  },
  {
   "cell_type": "markdown",
   "id": "85cefac6-9670-4b5d-974a-8923743e951c",
   "metadata": {},
   "source": [
    "1. Numpy"
   ]
  },
  {
   "cell_type": "markdown",
   "id": "63798507-3caf-4ab0-8e2f-f4e7fe45d672",
   "metadata": {},
   "source": [
    "2. Pandas"
   ]
  },
  {
   "cell_type": "markdown",
   "id": "7fd134ed-efbf-47d6-8846-1c2b09b84250",
   "metadata": {},
   "source": [
    "3. matplotlib"
   ]
  },
  {
   "cell_type": "markdown",
   "id": "77e089cc-fdc7-4998-bc26-67eecc564c0e",
   "metadata": {},
   "source": [
    "| Data Science Tools |\n",
    "| -------------|\n",
    "| Jupyter Notebooks |\n",
    "| RStudio |\n",
    "| Apache Zeppelin |"
   ]
  },
  {
   "cell_type": "markdown",
   "id": "6c7865a8-ff75-450a-ad7a-ca2a3eb7e972",
   "metadata": {},
   "source": [
    "### Below are a few examples of evaluating arithmetic expressions in Python"
   ]
  },
  {
   "cell_type": "code",
   "execution_count": 8,
   "id": "5f41ec7b-260f-492d-b1a3-217bdfc44859",
   "metadata": {
    "tags": []
   },
   "outputs": [],
   "source": [
    "#This a simple arithmetic expression to mutiply then add integers"
   ]
  },
  {
   "cell_type": "code",
   "execution_count": 9,
   "id": "e27c629f-2a1d-4e1a-8117-1d8bc3c93b3c",
   "metadata": {
    "tags": []
   },
   "outputs": [
    {
     "data": {
      "text/plain": [
       "17"
      ]
     },
     "execution_count": 9,
     "metadata": {},
     "output_type": "execute_result"
    }
   ],
   "source": [
    "(3*4)+5"
   ]
  },
  {
   "cell_type": "code",
   "execution_count": 10,
   "id": "9954a8aa-95b2-469a-a3f0-771c4fb9d1c6",
   "metadata": {
    "tags": []
   },
   "outputs": [],
   "source": [
    "#This will convert 200 minutes to hours by diving by 60"
   ]
  },
  {
   "cell_type": "code",
   "execution_count": 12,
   "id": "bc269614-f0ca-427c-b706-0fe53c4c6ed6",
   "metadata": {
    "tags": []
   },
   "outputs": [
    {
     "data": {
      "text/plain": [
       "3.3333333333333335"
      ]
     },
     "execution_count": 12,
     "metadata": {},
     "output_type": "execute_result"
    }
   ],
   "source": [
    "200/60"
   ]
  },
  {
   "cell_type": "markdown",
   "id": "675b7237-09f5-4eb8-8004-60dc65535aec",
   "metadata": {},
   "source": [
    "## Author"
   ]
  },
  {
   "cell_type": "markdown",
   "id": "bb5e4020-4733-4aea-b410-e806bf70d22e",
   "metadata": {},
   "source": [
    "Shirish Aggarwal"
   ]
  }
 ],
 "metadata": {
  "kernelspec": {
   "display_name": "Python",
   "language": "python",
   "name": "conda-env-python-py"
  },
  "language_info": {
   "codemirror_mode": {
    "name": "ipython",
    "version": 3
   },
   "file_extension": ".py",
   "mimetype": "text/x-python",
   "name": "python",
   "nbconvert_exporter": "python",
   "pygments_lexer": "ipython3",
   "version": "3.7.12"
  }
 },
 "nbformat": 4,
 "nbformat_minor": 5
}
